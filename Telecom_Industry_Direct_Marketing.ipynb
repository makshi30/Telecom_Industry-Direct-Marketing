{
  "nbformat": 4,
  "nbformat_minor": 0,
  "metadata": {
    "colab": {
      "name": "Telecom Industry- Direct Marketing.ipynb",
      "provenance": [],
      "collapsed_sections": [],
      "mount_file_id": "1hAtLrvKrv4Vc0a6cnW6mVrPNoJBx0tXz",
      "authorship_tag": "ABX9TyOKPVm8KT4aBy6Qddxs/0Yo",
      "include_colab_link": true
    },
    "kernelspec": {
      "name": "python3",
      "display_name": "Python 3"
    }
  },
  "cells": [
    {
      "cell_type": "markdown",
      "metadata": {
        "id": "view-in-github",
        "colab_type": "text"
      },
      "source": [
        "<a href=\"https://colab.research.google.com/github/makshi30/Telecom_Industry-Direct-Marketing/blob/main/Telecom_Industry_Direct_Marketing.ipynb\" target=\"_parent\"><img src=\"https://colab.research.google.com/assets/colab-badge.svg\" alt=\"Open In Colab\"/></a>"
      ]
    },
    {
      "cell_type": "markdown",
      "metadata": {
        "id": "YG545Ay_1AjG"
      },
      "source": [
        "# **Importing Libraries**"
      ]
    },
    {
      "cell_type": "code",
      "metadata": {
        "id": "4j8Lj8_AvD0l"
      },
      "source": [
        "import pandas as pd\n",
        "import numpy as np\n",
        "from matplotlib import pyplot as plt \n",
        "import seaborn as sns\n",
        "from sklearn.model_selection import train_test_split"
      ],
      "execution_count": 29,
      "outputs": []
    },
    {
      "cell_type": "code",
      "metadata": {
        "id": "3gO8Fmuo1R8u"
      },
      "source": [
        "#train= pd.read_excel('/content/drive/MyDrive/Telecom Industry- Direct Marketing/Train Data.xlsx')  \n",
        "#age column discrepancy\n",
        "train=pd.read_excel('/content/drive/MyDrive/Telecom Industry- Direct Marketing/Validate Data.xlsx')\n",
        "test= pd.read_excel('/content/drive/MyDrive/Telecom Industry- Direct Marketing/Test Data.xlsx')"
      ],
      "execution_count": 30,
      "outputs": []
    },
    {
      "cell_type": "code",
      "metadata": {
        "id": "_SathcEh7Y3w"
      },
      "source": [
        ""
      ],
      "execution_count": 30,
      "outputs": []
    },
    {
      "cell_type": "markdown",
      "metadata": {
        "id": "HRK55jXuPMSO"
      },
      "source": [
        "**Data Structure**\n",
        "\n",
        "•\tconnect: has more than one connection? \n",
        "\n",
        "•\tbalance: voice credit balance \n",
        "\n",
        "•\tlandline: has landline? \n",
        "\n",
        "•\tsmart: has smart phone?  \n",
        "\n",
        "•\tlast_day: last contact day of the month \n",
        "\n",
        "•\tlast_month: last contact month of year \n",
        "\n",
        "•\tduration: last contact duration, in seconds \n",
        "\n",
        "•\tcampaign: number of contacts performed during this \n",
        "campaign includes last contact\n",
        "\n",
        "•\tpassdays: number of days that passed by after the customer was last contacted from a previous campaign (-1 means client was not previously contacted)\n",
        "\n",
        "•\tprevious: number of contacts performed before this campaign \n",
        "\n",
        "•\tpoutcome: outcome of the previous marketing campaign \n",
        "\n",
        "•\ttarget: has the customer subscribed a data pack? (binary: \"1\",\"0\")\n"
      ]
    },
    {
      "cell_type": "code",
      "metadata": {
        "colab": {
          "base_uri": "https://localhost:8080/",
          "height": 226
        },
        "id": "J9o-Zh-G1x3H",
        "outputId": "552e6f84-1ff8-43ff-d4be-f0f2ecf875e0"
      },
      "source": [
        "train.head()"
      ],
      "execution_count": 31,
      "outputs": [
        {
          "output_type": "execute_result",
          "data": {
            "text/html": [
              "<div>\n",
              "<style scoped>\n",
              "    .dataframe tbody tr th:only-of-type {\n",
              "        vertical-align: middle;\n",
              "    }\n",
              "\n",
              "    .dataframe tbody tr th {\n",
              "        vertical-align: top;\n",
              "    }\n",
              "\n",
              "    .dataframe thead th {\n",
              "        text-align: right;\n",
              "    }\n",
              "</style>\n",
              "<table border=\"1\" class=\"dataframe\">\n",
              "  <thead>\n",
              "    <tr style=\"text-align: right;\">\n",
              "      <th></th>\n",
              "      <th>age</th>\n",
              "      <th>job</th>\n",
              "      <th>marital</th>\n",
              "      <th>education</th>\n",
              "      <th>connect</th>\n",
              "      <th>balance</th>\n",
              "      <th>landline</th>\n",
              "      <th>smart</th>\n",
              "      <th>last_day</th>\n",
              "      <th>last_month</th>\n",
              "      <th>duration</th>\n",
              "      <th>campaign</th>\n",
              "      <th>passdays</th>\n",
              "      <th>previous</th>\n",
              "      <th>poutcome</th>\n",
              "      <th>target</th>\n",
              "    </tr>\n",
              "  </thead>\n",
              "  <tbody>\n",
              "    <tr>\n",
              "      <th>0</th>\n",
              "      <td>30</td>\n",
              "      <td>unemployed</td>\n",
              "      <td>married</td>\n",
              "      <td>primary</td>\n",
              "      <td>no</td>\n",
              "      <td>1787</td>\n",
              "      <td>no</td>\n",
              "      <td>no</td>\n",
              "      <td>19</td>\n",
              "      <td>oct</td>\n",
              "      <td>79</td>\n",
              "      <td>1</td>\n",
              "      <td>-1</td>\n",
              "      <td>0</td>\n",
              "      <td>unknown</td>\n",
              "      <td>0</td>\n",
              "    </tr>\n",
              "    <tr>\n",
              "      <th>1</th>\n",
              "      <td>33</td>\n",
              "      <td>services</td>\n",
              "      <td>married</td>\n",
              "      <td>secondary</td>\n",
              "      <td>no</td>\n",
              "      <td>4789</td>\n",
              "      <td>yes</td>\n",
              "      <td>yes</td>\n",
              "      <td>11</td>\n",
              "      <td>may</td>\n",
              "      <td>220</td>\n",
              "      <td>1</td>\n",
              "      <td>339</td>\n",
              "      <td>4</td>\n",
              "      <td>failure</td>\n",
              "      <td>0</td>\n",
              "    </tr>\n",
              "    <tr>\n",
              "      <th>2</th>\n",
              "      <td>35</td>\n",
              "      <td>management</td>\n",
              "      <td>single</td>\n",
              "      <td>tertiary</td>\n",
              "      <td>no</td>\n",
              "      <td>1350</td>\n",
              "      <td>yes</td>\n",
              "      <td>no</td>\n",
              "      <td>16</td>\n",
              "      <td>apr</td>\n",
              "      <td>185</td>\n",
              "      <td>1</td>\n",
              "      <td>330</td>\n",
              "      <td>1</td>\n",
              "      <td>failure</td>\n",
              "      <td>0</td>\n",
              "    </tr>\n",
              "    <tr>\n",
              "      <th>3</th>\n",
              "      <td>30</td>\n",
              "      <td>management</td>\n",
              "      <td>married</td>\n",
              "      <td>tertiary</td>\n",
              "      <td>no</td>\n",
              "      <td>1476</td>\n",
              "      <td>yes</td>\n",
              "      <td>yes</td>\n",
              "      <td>3</td>\n",
              "      <td>jun</td>\n",
              "      <td>199</td>\n",
              "      <td>4</td>\n",
              "      <td>-1</td>\n",
              "      <td>0</td>\n",
              "      <td>unknown</td>\n",
              "      <td>0</td>\n",
              "    </tr>\n",
              "    <tr>\n",
              "      <th>4</th>\n",
              "      <td>59</td>\n",
              "      <td>blue-collar</td>\n",
              "      <td>married</td>\n",
              "      <td>secondary</td>\n",
              "      <td>no</td>\n",
              "      <td>0</td>\n",
              "      <td>yes</td>\n",
              "      <td>no</td>\n",
              "      <td>5</td>\n",
              "      <td>may</td>\n",
              "      <td>226</td>\n",
              "      <td>1</td>\n",
              "      <td>-1</td>\n",
              "      <td>0</td>\n",
              "      <td>unknown</td>\n",
              "      <td>0</td>\n",
              "    </tr>\n",
              "  </tbody>\n",
              "</table>\n",
              "</div>"
            ],
            "text/plain": [
              "   age          job  marital  education  ... passdays  previous poutcome target\n",
              "0   30   unemployed  married    primary  ...       -1         0  unknown      0\n",
              "1   33     services  married  secondary  ...      339         4  failure      0\n",
              "2   35   management   single   tertiary  ...      330         1  failure      0\n",
              "3   30   management  married   tertiary  ...       -1         0  unknown      0\n",
              "4   59  blue-collar  married  secondary  ...       -1         0  unknown      0\n",
              "\n",
              "[5 rows x 16 columns]"
            ]
          },
          "metadata": {
            "tags": []
          },
          "execution_count": 31
        }
      ]
    },
    {
      "cell_type": "code",
      "metadata": {
        "colab": {
          "base_uri": "https://localhost:8080/"
        },
        "id": "_5cYgIs0tnkm",
        "outputId": "3f713b56-4c5c-470b-af1b-3f09caa8e3d0"
      },
      "source": [
        "train.shape"
      ],
      "execution_count": 32,
      "outputs": [
        {
          "output_type": "execute_result",
          "data": {
            "text/plain": [
              "(4521, 16)"
            ]
          },
          "metadata": {
            "tags": []
          },
          "execution_count": 32
        }
      ]
    },
    {
      "cell_type": "markdown",
      "metadata": {
        "id": "J-7H85pA2039"
      },
      "source": [
        "# **EDA**"
      ]
    },
    {
      "cell_type": "code",
      "metadata": {
        "colab": {
          "base_uri": "https://localhost:8080/",
          "height": 354
        },
        "id": "IJHrI05E2wg3",
        "outputId": "e363ebad-8238-4e4a-f93a-f74a6478ed4c"
      },
      "source": [
        "sns.countplot(train['target'], palette='Set1')"
      ],
      "execution_count": 33,
      "outputs": [
        {
          "output_type": "stream",
          "text": [
            "/usr/local/lib/python3.6/dist-packages/seaborn/_decorators.py:43: FutureWarning: Pass the following variable as a keyword arg: x. From version 0.12, the only valid positional argument will be `data`, and passing other arguments without an explicit keyword will result in an error or misinterpretation.\n",
            "  FutureWarning\n"
          ],
          "name": "stderr"
        },
        {
          "output_type": "execute_result",
          "data": {
            "text/plain": [
              "<matplotlib.axes._subplots.AxesSubplot at 0x7f58f1b28ef0>"
            ]
          },
          "metadata": {
            "tags": []
          },
          "execution_count": 33
        },
        {
          "output_type": "display_data",
          "data": {
            "image/png": "[encoded data removed]",
            "text/plain": [
              "<Figure size 432x288 with 1 Axes>"
            ]
          },
          "metadata": {
            "tags": [],
            "needs_background": "light"
          }
        }
      ]
    },
    {
      "cell_type": "code",
      "metadata": {
        "colab": {
          "base_uri": "https://localhost:8080/"
        },
        "id": "RQJLW6qzHgSB",
        "outputId": "0b4431e8-19ef-41a9-fd45-0bf9e7d15746"
      },
      "source": [
        "count_no_sub = len(train[train['target']==0])\n",
        "count_sub = len(train[train['target']==1])\n",
        "pct_of_no_sub = count_no_sub/(count_no_sub+count_sub)\n",
        "print(\"percentage of no subscription is\", pct_of_no_sub*100)\n",
        "pct_of_sub = count_sub/(count_no_sub+count_sub)\n",
        "print(\"percentage of subscription\", pct_of_sub*100)"
      ],
      "execution_count": 34,
      "outputs": [
        {
          "output_type": "stream",
          "text": [
            "percentage of no subscription is 88.47600088476001\n",
            "percentage of subscription 11.523999115239992\n"
          ],
          "name": "stdout"
        }
      ]
    },
    {
      "cell_type": "markdown",
      "metadata": {
        "id": "yc9yydE9ITPD"
      },
      "source": [
        "**Note**: The output column (target) is imbalanced. The ratio of people buying the pack to people not buying is 88:11"
      ]
    },
    {
      "cell_type": "code",
      "metadata": {
        "colab": {
          "base_uri": "https://localhost:8080/",
          "height": 313
        },
        "id": "B6TAjArVu-tN",
        "outputId": "24f63190-d9b1-4e98-83d6-7b0756a438b5"
      },
      "source": [
        "plt.hist( train['age'], bins=20, edgecolor='black', linewidth=1.2 )\n",
        "plt.axvline(train['age'].mean(), color='k', linestyle='dashed', linewidth=1)\n",
        "plt.xlabel('Age group')\n",
        "plt.ylabel('count')\n",
        "plt.title('Age Distribution')"
      ],
      "execution_count": 35,
      "outputs": [
        {
          "output_type": "execute_result",
          "data": {
            "text/plain": [
              "Text(0.5, 1.0, 'Age Distribution')"
            ]
          },
          "metadata": {
            "tags": []
          },
          "execution_count": 35
        },
        {
          "output_type": "display_data",
          "data": {
            "image/png": "[encoded data removed]",
            "text/plain": [
              "<Figure size 432x288 with 1 Axes>"
            ]
          },
          "metadata": {
            "tags": [],
            "needs_background": "light"
          }
        }
      ]
    },
    {
      "cell_type": "markdown",
      "metadata": {
        "id": "ZU9J7yRjg8pt"
      },
      "source": [
        "Dotted line represents the mean of the age of the customers in the dataset. Majority of the customers falls in the 30-40 age group."
      ]
    },
    {
      "cell_type": "code",
      "metadata": {
        "colab": {
          "base_uri": "https://localhost:8080/",
          "height": 531
        },
        "id": "n8dqyvfez54-",
        "outputId": "3a7f00a8-40ed-4742-fca5-3fbde89f2996"
      },
      "source": [
        "plt.figure(figsize=(11, 8))\n",
        "plt.boxplot(train['age'])\n",
        "plt.xlabel('x')\n",
        "plt.ylabel('Age')\n",
        "plt.title('Age Boxplot')\n"
      ],
      "execution_count": 36,
      "outputs": [
        {
          "output_type": "execute_result",
          "data": {
            "text/plain": [
              "Text(0.5, 1.0, 'Age Boxplot')"
            ]
          },
          "metadata": {
            "tags": []
          },
          "execution_count": 36
        },
        {
          "output_type": "display_data",
          "data": {
            "image/png": "[encoded data removed]",
            "text/plain": [
              "<Figure size 792x576 with 1 Axes>"
            ]
          },
          "metadata": {
            "tags": [],
            "needs_background": "light"
          }
        }
      ]
    },
    {
      "cell_type": "markdown",
      "metadata": {
        "id": "laxy9-_ghR98"
      },
      "source": [
        "The above boxplot shows that there are very few customers with age of 75 years. These are the outliers."
      ]
    },
    {
      "cell_type": "code",
      "metadata": {
        "colab": {
          "base_uri": "https://localhost:8080/",
          "height": 144
        },
        "id": "d0Eu62x8Iwwk",
        "outputId": "0af4e73e-76f7-429e-c260-073f5de543e9"
      },
      "source": [
        "train.groupby('target').mean()"
      ],
      "execution_count": 37,
      "outputs": [
        {
          "output_type": "execute_result",
          "data": {
            "text/html": [
              "<div>\n",
              "<style scoped>\n",
              "    .dataframe tbody tr th:only-of-type {\n",
              "        vertical-align: middle;\n",
              "    }\n",
              "\n",
              "    .dataframe tbody tr th {\n",
              "        vertical-align: top;\n",
              "    }\n",
              "\n",
              "    .dataframe thead th {\n",
              "        text-align: right;\n",
              "    }\n",
              "</style>\n",
              "<table border=\"1\" class=\"dataframe\">\n",
              "  <thead>\n",
              "    <tr style=\"text-align: right;\">\n",
              "      <th></th>\n",
              "      <th>age</th>\n",
              "      <th>balance</th>\n",
              "      <th>last_day</th>\n",
              "      <th>duration</th>\n",
              "      <th>campaign</th>\n",
              "      <th>passdays</th>\n",
              "      <th>previous</th>\n",
              "    </tr>\n",
              "    <tr>\n",
              "      <th>target</th>\n",
              "      <th></th>\n",
              "      <th></th>\n",
              "      <th></th>\n",
              "      <th></th>\n",
              "      <th></th>\n",
              "      <th></th>\n",
              "      <th></th>\n",
              "    </tr>\n",
              "  </thead>\n",
              "  <tbody>\n",
              "    <tr>\n",
              "      <th>0</th>\n",
              "      <td>40.998000</td>\n",
              "      <td>1403.211750</td>\n",
              "      <td>15.948750</td>\n",
              "      <td>226.347500</td>\n",
              "      <td>2.862250</td>\n",
              "      <td>36.006000</td>\n",
              "      <td>0.471250</td>\n",
              "    </tr>\n",
              "    <tr>\n",
              "      <th>1</th>\n",
              "      <td>42.491363</td>\n",
              "      <td>1571.955854</td>\n",
              "      <td>15.658349</td>\n",
              "      <td>552.742802</td>\n",
              "      <td>2.266795</td>\n",
              "      <td>68.639155</td>\n",
              "      <td>1.090211</td>\n",
              "    </tr>\n",
              "  </tbody>\n",
              "</table>\n",
              "</div>"
            ],
            "text/plain": [
              "              age      balance   last_day  ...  campaign   passdays  previous\n",
              "target                                     ...                               \n",
              "0       40.998000  1403.211750  15.948750  ...  2.862250  36.006000  0.471250\n",
              "1       42.491363  1571.955854  15.658349  ...  2.266795  68.639155  1.090211\n",
              "\n",
              "[2 rows x 7 columns]"
            ]
          },
          "metadata": {
            "tags": []
          },
          "execution_count": 37
        }
      ]
    },
    {
      "cell_type": "markdown",
      "metadata": {
        "id": "KEcdjhkLhgSv"
      },
      "source": [
        "1. The average age of customers who bought the datapack is higher than that of the customers who didn’t.\n",
        "2. Campaigns (number of contacts or calls made during the current campaign) are lower for customers who bought the data pack."
      ]
    },
    {
      "cell_type": "code",
      "metadata": {
        "colab": {
          "base_uri": "https://localhost:8080/",
          "height": 356
        },
        "id": "QtLpgz1pJSYd",
        "outputId": "da3cd789-3107-4cec-f5a4-d9aa0f16ea33"
      },
      "source": [
        "%matplotlib inline\n",
        "pd.crosstab(train.job,train.target).plot(kind='bar')\n",
        "plt.title('Purchase Frequency for Job Title')\n",
        "plt.xlabel('Job')\n",
        "plt.ylabel('Frequency of Purchase')\n",
        "plt.savefig('purchase_fre_job')"
      ],
      "execution_count": 38,
      "outputs": [
        {
          "output_type": "display_data",
          "data": {
            "image/png": "[encoded data removed]",
            "text/plain": [
              "<Figure size 432x288 with 1 Axes>"
            ]
          },
          "metadata": {
            "tags": [],
            "needs_background": "light"
          }
        }
      ]
    },
    {
      "cell_type": "code",
      "metadata": {
        "colab": {
          "base_uri": "https://localhost:8080/",
          "height": 355
        },
        "id": "jPxz5cHjJbxH",
        "outputId": "eb8e506d-fc31-489c-b107-7748b5e60eea"
      },
      "source": [
        "table=pd.crosstab(train.education,train.target)\n",
        "table.div(table.sum(1).astype(float), axis=0).plot(kind='bar', stacked=True)\n",
        "plt.title('Stacked Bar Chart of education level vs Purchase')\n",
        "plt.xlabel('education level')\n",
        "plt.ylabel('Proportion of Customers')\n"
      ],
      "execution_count": 56,
      "outputs": [
        {
          "output_type": "execute_result",
          "data": {
            "text/plain": [
              "Text(0, 0.5, 'Proportion of Customers')"
            ]
          },
          "metadata": {
            "tags": []
          },
          "execution_count": 56
        },
        {
          "output_type": "display_data",
          "data": {
            "image/png": "[encoded data removed]",
            "text/plain": [
              "<Figure size 432x288 with 1 Axes>"
            ]
          },
          "metadata": {
            "tags": [],
            "needs_background": "light"
          }
        }
      ]
    },
    {
      "cell_type": "code",
      "metadata": {
        "colab": {
          "base_uri": "https://localhost:8080/",
          "height": 331
        },
        "id": "8_OxE_k5KIEp",
        "outputId": "d6affecf-8733-4825-8ade-7503a9230d47"
      },
      "source": [
        "pd.crosstab(train.poutcome,train.target).plot(kind='bar')\n",
        "plt.title('Purchase Frequency for Poutcome')\n",
        "plt.xlabel('Poutcome')\n",
        "plt.ylabel('Frequency of Purchase')\n",
        "plt.savefig('pur_fre_pout_bar')"
      ],
      "execution_count": 40,
      "outputs": [
        {
          "output_type": "display_data",
          "data": {
            "image/png": "[encoded data removed]",
            "text/plain": [
              "<Figure size 432x288 with 1 Axes>"
            ]
          },
          "metadata": {
            "tags": [],
            "needs_background": "light"
          }
        }
      ]
    },
    {
      "cell_type": "markdown",
      "metadata": {
        "id": "yiNUTlVeOFnd"
      },
      "source": [
        "# **Data Preparation**"
      ]
    },
    {
      "cell_type": "markdown",
      "metadata": {
        "id": "-EPecvFOjKD0"
      },
      "source": [
        "### One-hot encoding"
      ]
    },
    {
      "cell_type": "code",
      "metadata": {
        "colab": {
          "base_uri": "https://localhost:8080/"
        },
        "id": "ZkZLOHAIVX_G",
        "outputId": "0c2982d5-bcd8-4844-c96b-33b98add27f8"
      },
      "source": [
        "dummy = train.copy()\n",
        "dummy = pd.get_dummies(dummy, columns=['job','marital','education','connect','last_month','poutcome'])#, prefix = ['carrier'])\n",
        "\n",
        "print(dummy.head())"
      ],
      "execution_count": 41,
      "outputs": [
        {
          "output_type": "stream",
          "text": [
            "   age  balance landline  ... poutcome_other  poutcome_success  poutcome_unknown\n",
            "0   30     1787       no  ...              0                 0                 1\n",
            "1   33     4789      yes  ...              0                 0                 0\n",
            "2   35     1350      yes  ...              0                 0                 0\n",
            "3   30     1476      yes  ...              0                 0                 1\n",
            "4   59        0      yes  ...              0                 0                 1\n",
            "\n",
            "[5 rows x 47 columns]\n"
          ],
          "name": "stdout"
        }
      ]
    },
    {
      "cell_type": "code",
      "metadata": {
        "id": "EIf0ZpgmLIpn"
      },
      "source": [
        "del dummy['landline']\n",
        "del dummy['smart']"
      ],
      "execution_count": 42,
      "outputs": []
    },
    {
      "cell_type": "code",
      "metadata": {
        "colab": {
          "base_uri": "https://localhost:8080/"
        },
        "id": "mft-hRI5YsAc",
        "outputId": "2ef296ec-3416-408b-af7b-df5f0f45891e"
      },
      "source": [
        "dummy.columns.values"
      ],
      "execution_count": 43,
      "outputs": [
        {
          "output_type": "execute_result",
          "data": {
            "text/plain": [
              "array(['age', 'balance', 'last_day', 'duration', 'campaign', 'passdays',\n",
              "       'previous', 'target', 'job_admin.', 'job_blue-collar',\n",
              "       'job_entrepreneur', 'job_housemaid', 'job_management',\n",
              "       'job_retired', 'job_self-employed', 'job_services', 'job_student',\n",
              "       'job_technician', 'job_unemployed', 'job_unknown',\n",
              "       'marital_divorced', 'marital_married', 'marital_single',\n",
              "       'education_primary', 'education_secondary', 'education_tertiary',\n",
              "       'education_unknown', 'connect_no', 'connect_yes', 'last_month_apr',\n",
              "       'last_month_aug', 'last_month_dec', 'last_month_feb',\n",
              "       'last_month_jan', 'last_month_jul', 'last_month_jun',\n",
              "       'last_month_mar', 'last_month_may', 'last_month_nov',\n",
              "       'last_month_oct', 'last_month_sep', 'poutcome_failure',\n",
              "       'poutcome_other', 'poutcome_success', 'poutcome_unknown'],\n",
              "      dtype=object)"
            ]
          },
          "metadata": {
            "tags": []
          },
          "execution_count": 43
        }
      ]
    },
    {
      "cell_type": "markdown",
      "metadata": {
        "id": "-OBYsMMBjYL8"
      },
      "source": [
        "## SMOTE"
      ]
    },
    {
      "cell_type": "markdown",
      "metadata": {
        "id": "Ji9XUMCgLjzk"
      },
      "source": [
        "**Note:** Up-Sampling the no-subscription using the **SMOTE** algorithm(Synthetic Minority Oversampling Technique)"
      ]
    },
    {
      "cell_type": "code",
      "metadata": {
        "id": "IWpSzUCXMOrP"
      },
      "source": [
        "X = dummy.loc[:, dummy.columns != 'target']\n",
        "y = dummy.loc[:, dummy.columns == 'target']"
      ],
      "execution_count": 44,
      "outputs": []
    },
    {
      "cell_type": "code",
      "metadata": {
        "colab": {
          "base_uri": "https://localhost:8080/"
        },
        "id": "I8OwFKWqYvjD",
        "outputId": "1fd55705-1171-44cb-c428-066eb18cef0e"
      },
      "source": [
        "from imblearn.over_sampling import SMOTE\n",
        "\n",
        "os = SMOTE(random_state=0)\n",
        "\n",
        "X_train, X_test, y_train, y_test = train_test_split(X, y, test_size=0.3, random_state=0)\n",
        "columns = X_train.columns\n",
        "\n",
        "os_data_X,os_data_y=os.fit_sample(X_train, y_train)\n",
        "os_data_X = pd.DataFrame(data=os_data_X,columns=columns )\n",
        "os_data_y= pd.DataFrame(data=os_data_y,columns=['target'])\n",
        "# we can Check the numbers of our data\n",
        "print(\"length of oversampled data is \",len(os_data_X))\n",
        "print(\"Number of no subscription in oversampled data\",len(os_data_y[os_data_y['target']==0]))\n",
        "print(\"Number of subscription\",len(os_data_y[os_data_y['target']==1]))\n",
        "print(\"Proportion of no subscription data in oversampled data is \",len(os_data_y[os_data_y['target']==0])/len(os_data_X))\n",
        "print(\"Proportion of subscription data in oversampled data is \",len(os_data_y[os_data_y['target']==1])/len(os_data_X))"
      ],
      "execution_count": 45,
      "outputs": [
        {
          "output_type": "stream",
          "text": [
            "length of oversampled data is  5620\n",
            "Number of no subscription in oversampled data 2810\n",
            "Number of subscription 2810\n",
            "Proportion of no subscription data in oversampled data is  0.5\n",
            "Proportion of subscription data in oversampled data is  0.5\n"
          ],
          "name": "stdout"
        },
        {
          "output_type": "stream",
          "text": [
            "/usr/local/lib/python3.6/dist-packages/sklearn/utils/validation.py:760: DataConversionWarning: A column-vector y was passed when a 1d array was expected. Please change the shape of y to (n_samples, ), for example using ravel().\n",
            "  y = column_or_1d(y, warn=True)\n",
            "/usr/local/lib/python3.6/dist-packages/sklearn/utils/deprecation.py:87: FutureWarning: Function safe_indexing is deprecated; safe_indexing is deprecated in version 0.22 and will be removed in version 0.24.\n",
            "  warnings.warn(msg, category=FutureWarning)\n"
          ],
          "name": "stderr"
        }
      ]
    },
    {
      "cell_type": "markdown",
      "metadata": {
        "id": "oSkfQWy7je5t"
      },
      "source": [
        "## RFE"
      ]
    },
    {
      "cell_type": "code",
      "metadata": {
        "colab": {
          "base_uri": "https://localhost:8080/"
        },
        "id": "ajPPLPtzZ6IA",
        "outputId": "d9bbd823-b49d-4a6c-ce20-f3dcc51077d4"
      },
      "source": [
        "data_final= dummy.columns.values.tolist()\n",
        "y=['target']\n",
        "X=[i for i in data_final if i not in y]\n",
        "\n",
        "from sklearn.feature_selection import RFE\n",
        "from sklearn.linear_model import LogisticRegression\n",
        "\n",
        "logreg = LogisticRegression()\n",
        "rfe = RFE(logreg, 20)\n",
        "rfe = rfe.fit(os_data_X, os_data_y.values.ravel())\n",
        "print(rfe.support_)\n",
        "print(rfe.ranking_)"
      ],
      "execution_count": 46,
      "outputs": [
        {
          "output_type": "stream",
          "text": [
            "/usr/local/lib/python3.6/dist-packages/sklearn/linear_model/_logistic.py:940: ConvergenceWarning: lbfgs failed to converge (status=1):\n",
            "STOP: TOTAL NO. of ITERATIONS REACHED LIMIT.\n",
            "\n",
            "Increase the number of iterations (max_iter) or scale the data as shown in:\n",
            "    https://scikit-learn.org/stable/modules/preprocessing.html\n",
            "Please also refer to the documentation for alternative solver options:\n",
            "    https://scikit-learn.org/stable/modules/linear_model.html#logistic-regression\n",
            "  extra_warning_msg=_LOGISTIC_SOLVER_CONVERGENCE_MSG)\n",
            "/usr/local/lib/python3.6/dist-packages/sklearn/linear_model/_logistic.py:940: ConvergenceWarning: lbfgs failed to converge (status=1):\n",
            "STOP: TOTAL NO. of ITERATIONS REACHED LIMIT.\n",
            "\n",
            "Increase the number of iterations (max_iter) or scale the data as shown in:\n",
            "    https://scikit-learn.org/stable/modules/preprocessing.html\n",
            "Please also refer to the documentation for alternative solver options:\n",
            "    https://scikit-learn.org/stable/modules/linear_model.html#logistic-regression\n",
            "  extra_warning_msg=_LOGISTIC_SOLVER_CONVERGENCE_MSG)\n",
            "/usr/local/lib/python3.6/dist-packages/sklearn/linear_model/_logistic.py:940: ConvergenceWarning: lbfgs failed to converge (status=1):\n",
            "STOP: TOTAL NO. of ITERATIONS REACHED LIMIT.\n",
            "\n",
            "Increase the number of iterations (max_iter) or scale the data as shown in:\n",
            "    https://scikit-learn.org/stable/modules/preprocessing.html\n",
            "Please also refer to the documentation for alternative solver options:\n",
            "    https://scikit-learn.org/stable/modules/linear_model.html#logistic-regression\n",
            "  extra_warning_msg=_LOGISTIC_SOLVER_CONVERGENCE_MSG)\n",
            "/usr/local/lib/python3.6/dist-packages/sklearn/linear_model/_logistic.py:940: ConvergenceWarning: lbfgs failed to converge (status=1):\n",
            "STOP: TOTAL NO. of ITERATIONS REACHED LIMIT.\n",
            "\n",
            "Increase the number of iterations (max_iter) or scale the data as shown in:\n",
            "    https://scikit-learn.org/stable/modules/preprocessing.html\n",
            "Please also refer to the documentation for alternative solver options:\n",
            "    https://scikit-learn.org/stable/modules/linear_model.html#logistic-regression\n",
            "  extra_warning_msg=_LOGISTIC_SOLVER_CONVERGENCE_MSG)\n",
            "/usr/local/lib/python3.6/dist-packages/sklearn/linear_model/_logistic.py:940: ConvergenceWarning: lbfgs failed to converge (status=1):\n",
            "STOP: TOTAL NO. of ITERATIONS REACHED LIMIT.\n",
            "\n",
            "Increase the number of iterations (max_iter) or scale the data as shown in:\n",
            "    https://scikit-learn.org/stable/modules/preprocessing.html\n",
            "Please also refer to the documentation for alternative solver options:\n",
            "    https://scikit-learn.org/stable/modules/linear_model.html#logistic-regression\n",
            "  extra_warning_msg=_LOGISTIC_SOLVER_CONVERGENCE_MSG)\n",
            "/usr/local/lib/python3.6/dist-packages/sklearn/linear_model/_logistic.py:940: ConvergenceWarning: lbfgs failed to converge (status=1):\n",
            "STOP: TOTAL NO. of ITERATIONS REACHED LIMIT.\n",
            "\n",
            "Increase the number of iterations (max_iter) or scale the data as shown in:\n",
            "    https://scikit-learn.org/stable/modules/preprocessing.html\n",
            "Please also refer to the documentation for alternative solver options:\n",
            "    https://scikit-learn.org/stable/modules/linear_model.html#logistic-regression\n",
            "  extra_warning_msg=_LOGISTIC_SOLVER_CONVERGENCE_MSG)\n",
            "/usr/local/lib/python3.6/dist-packages/sklearn/linear_model/_logistic.py:940: ConvergenceWarning: lbfgs failed to converge (status=1):\n",
            "STOP: TOTAL NO. of ITERATIONS REACHED LIMIT.\n",
            "\n",
            "Increase the number of iterations (max_iter) or scale the data as shown in:\n",
            "    https://scikit-learn.org/stable/modules/preprocessing.html\n",
            "Please also refer to the documentation for alternative solver options:\n",
            "    https://scikit-learn.org/stable/modules/linear_model.html#logistic-regression\n",
            "  extra_warning_msg=_LOGISTIC_SOLVER_CONVERGENCE_MSG)\n"
          ],
          "name": "stderr"
        },
        {
          "output_type": "stream",
          "text": [
            "[False False False False False False False  True  True  True  True  True\n",
            " False  True  True  True  True  True False  True  True  True  True  True\n",
            "  True  True False False False False False False False False False False\n",
            " False False False False  True  True False  True]\n",
            "[21 25 24 22 19 23 20  1  1  1  1  1  2  1  1  1  1  1  3  1  1  1  1  1\n",
            "  1  1 17 18 11  9 13 10  4  8  5 15  6  7 14 12  1  1 16  1]\n"
          ],
          "name": "stdout"
        }
      ]
    },
    {
      "cell_type": "code",
      "metadata": {
        "id": "qyIEQB-9bCAZ"
      },
      "source": [
        "#removed columns with 'False' output, index starting from 1\n",
        "cols= [  'job_admin.', 'job_blue-collar',\n",
        "       'job_entrepreneur', 'job_housemaid', 'job_management',\n",
        "       'job_retired', 'job_self-employed', 'job_services', 'job_student',\n",
        "       'job_technician', 'job_unemployed', 'job_unknown',\n",
        "       'marital_divorced', 'marital_married', 'marital_single',\n",
        "       'education_primary', 'education_secondary', \n",
        "       'last_month_oct', 'last_month_sep', 'poutcome_failure',\n",
        "       'poutcome_other']\n",
        "      \n",
        "X=os_data_X[cols]\n",
        "y=os_data_y['target']"
      ],
      "execution_count": 47,
      "outputs": []
    },
    {
      "cell_type": "markdown",
      "metadata": {
        "id": "Q3fFJhILj08j"
      },
      "source": [
        "# **Model Implementation**"
      ]
    },
    {
      "cell_type": "code",
      "metadata": {
        "id": "8LuMLcOTM0o8"
      },
      "source": [
        "from sklearn.linear_model import LogisticRegression"
      ],
      "execution_count": 48,
      "outputs": []
    },
    {
      "cell_type": "code",
      "metadata": {
        "colab": {
          "base_uri": "https://localhost:8080/"
        },
        "id": "xTMucEMJUgZZ",
        "outputId": "a5b08fda-c53c-4253-ba3e-0b259bf50e7d"
      },
      "source": [
        "import statsmodels.api as sm\n",
        "logit_model=sm.Logit(y,X)\n",
        "result=logit_model.fit()\n",
        "print(result.summary2())"
      ],
      "execution_count": 49,
      "outputs": [
        {
          "output_type": "stream",
          "text": [
            "Optimization terminated successfully.\n",
            "         Current function value: 0.524933\n",
            "         Iterations 7\n",
            "                           Results: Logit\n",
            "====================================================================\n",
            "Model:                Logit             Pseudo R-squared:  0.243    \n",
            "Dependent Variable:   target            AIC:               5942.2501\n",
            "Date:                 2020-11-24 09:18  BIC:               6081.5659\n",
            "No. Observations:     5620              Log-Likelihood:    -2950.1  \n",
            "Df Model:             20                LL-Null:           -3895.5  \n",
            "Df Residuals:         5599              LLR p-value:       0.0000   \n",
            "Converged:            1.0000            Scale:             1.0000   \n",
            "No. Iterations:       7.0000                                        \n",
            "--------------------------------------------------------------------\n",
            "                     Coef.  Std.Err.    z     P>|z|   [0.025  0.975]\n",
            "--------------------------------------------------------------------\n",
            "job_admin.          -3.2007   0.1744 -18.3560 0.0000 -3.5424 -2.8589\n",
            "job_blue-collar     -3.3719   0.1543 -21.8498 0.0000 -3.6744 -3.0694\n",
            "job_entrepreneur    -3.9038   0.3782 -10.3222 0.0000 -4.6451 -3.1626\n",
            "job_housemaid       -3.2439   0.3741  -8.6714 0.0000 -3.9771 -2.5107\n",
            "job_management      -2.0156   0.1084 -18.5892 0.0000 -2.2282 -1.8031\n",
            "job_retired         -1.3729   0.1669  -8.2261 0.0000 -1.7000 -1.0458\n",
            "job_self-employed   -3.3231   0.2818 -11.7924 0.0000 -3.8754 -2.7708\n",
            "job_services        -3.4655   0.2010 -17.2430 0.0000 -3.8594 -3.0716\n",
            "job_student         -2.3021   0.2690  -8.5590 0.0000 -2.8293 -1.7749\n",
            "job_technician      -2.7022   0.1328 -20.3524 0.0000 -2.9625 -2.4420\n",
            "job_unemployed      -3.1811   0.3067 -10.3719 0.0000 -3.7823 -2.5800\n",
            "job_unknown         -2.5865   0.4841  -5.3425 0.0000 -3.5354 -1.6376\n",
            "marital_divorced     0.7533   0.1587   4.7480 0.0000  0.4423  1.0643\n",
            "marital_married      1.2281   0.0840  14.6122 0.0000  1.0634  1.3928\n",
            "marital_single       1.2023   0.1060  11.3395 0.0000  0.9945  1.4102\n",
            "education_primary   -0.2830   0.1582  -1.7887 0.0737 -0.5930  0.0271\n",
            "education_secondary  0.4659   0.0825   5.6464 0.0000  0.3042  0.6277\n",
            "last_month_oct       0.8909   0.2828   3.1504 0.0016  0.3367  1.4452\n",
            "last_month_sep       0.9531   0.3237   2.9441 0.0032  0.3186  1.5876\n",
            "poutcome_failure    -0.1468   0.1299  -1.1303 0.2583 -0.4014  0.1078\n",
            "poutcome_other       0.0095   0.2005   0.0473 0.9623 -0.3836  0.4025\n",
            "====================================================================\n",
            "\n"
          ],
          "name": "stdout"
        }
      ]
    },
    {
      "cell_type": "markdown",
      "metadata": {
        "id": "HcWypDk5kaMr"
      },
      "source": [
        "**Note:** Removing columns with P(value) < 0.05"
      ]
    },
    {
      "cell_type": "code",
      "metadata": {
        "colab": {
          "base_uri": "https://localhost:8080/"
        },
        "id": "5RgdTfNcco4W",
        "outputId": "a2e9d4b7-414b-4ebf-e5b6-6e72f73435f9"
      },
      "source": [
        "cols= [  'job_admin.', 'job_blue-collar',\n",
        "       'job_entrepreneur', 'job_housemaid', 'job_management',\n",
        "       'job_retired', 'job_self-employed', 'job_services', 'job_student',\n",
        "       'job_technician', 'job_unemployed', 'job_unknown',\n",
        "       'marital_divorced', 'marital_married', 'marital_single', 'education_secondary', \n",
        "       'last_month_oct', 'last_month_sep']\n",
        "X=os_data_X[cols]\n",
        "y=os_data_y['target']\n",
        "logit_model=sm.Logit(y,X)\n",
        "result=logit_model.fit()\n",
        "print(result.summary2())"
      ],
      "execution_count": 50,
      "outputs": [
        {
          "output_type": "stream",
          "text": [
            "Optimization terminated successfully.\n",
            "         Current function value: 0.525337\n",
            "         Iterations 7\n",
            "                           Results: Logit\n",
            "====================================================================\n",
            "Model:                Logit             Pseudo R-squared:  0.242    \n",
            "Dependent Variable:   target            AIC:               5940.7933\n",
            "Date:                 2020-11-24 09:18  BIC:               6060.2069\n",
            "No. Observations:     5620              Log-Likelihood:    -2952.4  \n",
            "Df Model:             17                LL-Null:           -3895.5  \n",
            "Df Residuals:         5602              LLR p-value:       0.0000   \n",
            "Converged:            1.0000            Scale:             1.0000   \n",
            "No. Iterations:       7.0000                                        \n",
            "--------------------------------------------------------------------\n",
            "                     Coef.  Std.Err.    z     P>|z|   [0.025  0.975]\n",
            "--------------------------------------------------------------------\n",
            "job_admin.          -3.2380   0.1734 -18.6710 0.0000 -3.5779 -2.8981\n",
            "job_blue-collar     -3.4696   0.1460 -23.7709 0.0000 -3.7557 -3.1836\n",
            "job_entrepreneur    -3.9412   0.3777 -10.4348 0.0000 -4.6815 -3.2010\n",
            "job_housemaid       -3.3700   0.3672  -9.1778 0.0000 -4.0897 -2.6503\n",
            "job_management      -2.0255   0.1078 -18.7924 0.0000 -2.2367 -1.8142\n",
            "job_retired         -1.4632   0.1601  -9.1384 0.0000 -1.7770 -1.1493\n",
            "job_self-employed   -3.3527   0.2813 -11.9195 0.0000 -3.9040 -2.8014\n",
            "job_services        -3.5071   0.1998 -17.5507 0.0000 -3.8987 -3.1154\n",
            "job_student         -2.3306   0.2683  -8.6877 0.0000 -2.8564 -1.8048\n",
            "job_technician      -2.7320   0.1322 -20.6605 0.0000 -2.9912 -2.4729\n",
            "job_unemployed      -3.2433   0.3049 -10.6383 0.0000 -3.8408 -2.6458\n",
            "job_unknown         -2.6409   0.4836  -5.4608 0.0000 -3.5888 -1.6931\n",
            "marital_divorced     0.7318   0.1580   4.6304 0.0000  0.4220  1.0415\n",
            "marital_married      1.2033   0.0831  14.4803 0.0000  1.0404  1.3661\n",
            "marital_single       1.1865   0.1057  11.2265 0.0000  0.9794  1.3937\n",
            "education_secondary  0.5097   0.0785   6.4915 0.0000  0.3558  0.6636\n",
            "last_month_oct       0.8753   0.2828   3.0949 0.0020  0.3210  1.4296\n",
            "last_month_sep       0.9637   0.3234   2.9803 0.0029  0.3299  1.5975\n",
            "====================================================================\n",
            "\n"
          ],
          "name": "stdout"
        }
      ]
    },
    {
      "cell_type": "code",
      "metadata": {
        "colab": {
          "base_uri": "https://localhost:8080/"
        },
        "id": "qOtdoSSic8Yr",
        "outputId": "e2df9736-cbfd-4d42-c86f-497cccdf3ea9"
      },
      "source": [
        "from sklearn.linear_model import LogisticRegression\n",
        "from sklearn import metrics\n",
        "\n",
        "X_train, X_test, y_train, y_test = train_test_split(X, y, test_size=0.3, random_state=0)\n",
        "logreg = LogisticRegression()\n",
        "logreg.fit(X_train, y_train)"
      ],
      "execution_count": 51,
      "outputs": [
        {
          "output_type": "execute_result",
          "data": {
            "text/plain": [
              "LogisticRegression(C=1.0, class_weight=None, dual=False, fit_intercept=True,\n",
              "                   intercept_scaling=1, l1_ratio=None, max_iter=100,\n",
              "                   multi_class='auto', n_jobs=None, penalty='l2',\n",
              "                   random_state=None, solver='lbfgs', tol=0.0001, verbose=0,\n",
              "                   warm_start=False)"
            ]
          },
          "metadata": {
            "tags": []
          },
          "execution_count": 51
        }
      ]
    },
    {
      "cell_type": "code",
      "metadata": {
        "colab": {
          "base_uri": "https://localhost:8080/"
        },
        "id": "4JnStflkc_mU",
        "outputId": "22421041-2096-4e0b-a7a3-6e4338df6a07"
      },
      "source": [
        "y_pred = logreg.predict(X_test)\n",
        "print('Accuracy of logistic regression classifier on test set: {:.2f}'.format(logreg.score(X_test, y_test)))"
      ],
      "execution_count": 52,
      "outputs": [
        {
          "output_type": "stream",
          "text": [
            "Accuracy of logistic regression classifier on test set: 0.91\n"
          ],
          "name": "stdout"
        }
      ]
    },
    {
      "cell_type": "code",
      "metadata": {
        "colab": {
          "base_uri": "https://localhost:8080/"
        },
        "id": "1fSHCXv-dEeh",
        "outputId": "3448c264-3183-4607-c15a-552d2583683a"
      },
      "source": [
        "from sklearn.metrics import confusion_matrix\n",
        "confusion_matrix = confusion_matrix(y_test, y_pred)\n",
        "print(confusion_matrix)"
      ],
      "execution_count": 53,
      "outputs": [
        {
          "output_type": "stream",
          "text": [
            "[[839   2]\n",
            " [154 691]]\n"
          ],
          "name": "stdout"
        }
      ]
    },
    {
      "cell_type": "markdown",
      "metadata": {
        "id": "cvpYH6mzklpp"
      },
      "source": [
        "**Interpretation:**\n",
        "The result is telling us that we have (839 + 691) correct predictions and (2 + 154) incorrect predictions."
      ]
    },
    {
      "cell_type": "code",
      "metadata": {
        "colab": {
          "base_uri": "https://localhost:8080/",
          "height": 295
        },
        "id": "gmDSiWMkdXr2",
        "outputId": "1bf54393-014d-40dd-efb8-54bbdb714984"
      },
      "source": [
        "from sklearn.metrics import roc_auc_score\n",
        "from sklearn.metrics import roc_curve\n",
        "logit_roc_auc = roc_auc_score(y_test, logreg.predict(X_test))\n",
        "fpr, tpr, thresholds = roc_curve(y_test, logreg.predict_proba(X_test)[:,1])\n",
        "plt.figure()\n",
        "plt.plot(fpr, tpr, label='Logistic Regression (area = %0.2f)' % logit_roc_auc)\n",
        "plt.plot([0, 1], [0, 1],'r--')\n",
        "plt.xlim([0.0, 1.0])\n",
        "plt.ylim([0.0, 1.05])\n",
        "plt.xlabel('False Positive Rate')\n",
        "plt.ylabel('True Positive Rate')\n",
        "plt.title('Receiver operating characteristic')\n",
        "plt.legend(loc=\"lower right\")\n",
        "plt.savefig('Log_ROC')\n",
        "plt.show()"
      ],
      "execution_count": 55,
      "outputs": [
        {
          "output_type": "display_data",
          "data": {
            "image/png": "[encoded data removed]",
            "text/plain": [
              "<Figure size 432x288 with 1 Axes>"
            ]
          },
          "metadata": {
            "tags": [],
            "needs_background": "light"
          }
        }
      ]
    },
    {
      "cell_type": "markdown",
      "metadata": {
        "id": "MZGQBom2oDxL"
      },
      "source": [
        "**Note:** The dotted line represents the ROC curve of a purely random classifier; a good classifier stays as far away from that line as possible (toward the top-left corner)."
      ]
    }
  ]
}